{
  "nbformat": 4,
  "nbformat_minor": 0,
  "metadata": {
    "kernelspec": {
      "display_name": "Python 3",
      "name": "python3"
    },
    "language_info": {
      "codemirror_mode": {
        "name": "ipython",
        "version": 3
      },
      "file_extension": ".py",
      "mimetype": "text/x-python",
      "name": "python",
      "nbconvert_exporter": "python",
      "pygments_lexer": "ipython3",
      "version": "3.8.5"
    },
    "colab": {
      "provenance": [],
      "gpuType": "T4"
    },
    "accelerator": "GPU"
  },
  "cells": [
    {
      "cell_type": "code",
      "metadata": {
        "id": "_NOegdxmFt97",
        "colab": {
          "base_uri": "https://localhost:8080/"
        },
        "outputId": "839fccb8-e50c-49ea-b3d2-5fd5b80ba5d1"
      },
      "source": [
        "!wget  https://dl.fbaipublicfiles.com/fasttext/vectors-wiki/wiki.ar.zip"
      ],
      "execution_count": 1,
      "outputs": [
        {
          "output_type": "stream",
          "name": "stdout",
          "text": [
            "--2023-07-04 09:50:05--  https://dl.fbaipublicfiles.com/fasttext/vectors-wiki/wiki.ar.zip\n",
            "Resolving dl.fbaipublicfiles.com (dl.fbaipublicfiles.com)... 108.156.60.102, 108.156.60.51, 108.156.60.36, ...\n",
            "Connecting to dl.fbaipublicfiles.com (dl.fbaipublicfiles.com)|108.156.60.102|:443... connected.\n",
            "HTTP request sent, awaiting response... 200 OK\n",
            "Length: 4243104161 (4.0G) [application/zip]\n",
            "Saving to: ‘wiki.ar.zip’\n",
            "\n",
            "wiki.ar.zip         100%[===================>]   3.95G  26.7MB/s    in 2m 38s  \n",
            "\n",
            "2023-07-04 09:52:44 (25.7 MB/s) - ‘wiki.ar.zip’ saved [4243104161/4243104161]\n",
            "\n"
          ]
        }
      ]
    },
    {
      "cell_type": "code",
      "metadata": {
        "id": "xupJ8XlfltyW"
      },
      "source": [
        "import requests, zipfile, io\n",
        "z = zipfile.ZipFile(\"/content/wiki.ar.zip\")\n",
        "z.extractall()"
      ],
      "execution_count": 2,
      "outputs": []
    },
    {
      "cell_type": "code",
      "metadata": {
        "id": "vMubo80klzf4",
        "colab": {
          "base_uri": "https://localhost:8080/"
        },
        "outputId": "02fb3572-9c05-477b-e192-0baf4d50c897"
      },
      "source": [
        "#For Pre-Processing\n",
        "from tqdm import tqdm\n",
        "import nltk\n",
        "from nltk.corpus import stopwords\n",
        "nltk.download('stopwords')\n",
        "nltk.download('punkt')\n",
        "from nltk.tokenize import RegexpTokenizer\n",
        "from nltk.tokenize import word_tokenize\n",
        "import os, re, csv, math, codecs\n",
        "\n",
        "\n",
        "# For Training\n",
        "import keras\n",
        "from keras import optimizers\n",
        "from keras import backend as K\n",
        "from keras import regularizers\n",
        "from keras.models import Sequential\n",
        "from keras.layers import Dense, Activation, Dropout, Flatten\n",
        "from keras.layers import Embedding, Conv1D, MaxPooling1D, GlobalMaxPooling1D\n",
        "from tensorflow.keras.layers import Embedding, LSTM, Dense, Dropout, Bidirectional\n",
        "from keras.utils.vis_utils import plot_model\n",
        "from tensorflow.keras.preprocessing import sequence\n",
        "from keras.preprocessing.text import Tokenizer\n",
        "from keras.callbacks import EarlyStopping\n",
        "\n",
        "# For array, dataset, and visualizing\n",
        "import numpy as np\n",
        "import pandas as pd\n",
        "import seaborn as sns\n",
        "import matplotlib.pyplot as plt\n",
        "\n",
        "sns.set_style(\"whitegrid\")\n",
        "np.random.seed(0)\n",
        "\n",
        "MAX_NB_WORDS = 100000\n",
        "tokenizer = RegexpTokenizer(r'\\w+')\n",
        "stop_words = set(nltk.corpus.stopwords.words(\"arabic\"))\n",
        "stop_words.update(['.', ',', '\"', \"'\", ':', ';', '(', ')', '[', ']', '{', '}'])"
      ],
      "execution_count": 1,
      "outputs": [
        {
          "output_type": "stream",
          "name": "stderr",
          "text": [
            "[nltk_data] Downloading package stopwords to /root/nltk_data...\n",
            "[nltk_data]   Package stopwords is already up-to-date!\n",
            "[nltk_data] Downloading package punkt to /root/nltk_data...\n",
            "[nltk_data]   Package punkt is already up-to-date!\n"
          ]
        }
      ]
    },
    {
      "cell_type": "code",
      "metadata": {
        "id": "pg3AgYTEmL2V",
        "colab": {
          "base_uri": "https://localhost:8080/"
        },
        "outputId": "911f7749-b19a-4529-ae40-a6144e368ee2"
      },
      "source": [
        "print('loading word embeddings...')\n",
        "\n",
        "embeddings_index = {}\n",
        "f = codecs.open('/content/wiki.ar.vec', encoding='utf-8')\n",
        "\n",
        "for line in tqdm(f):\n",
        "    values = line.rstrip().rsplit(' ')\n",
        "    word = values[0]\n",
        "    coefs = np.asarray(values[1:], dtype='float32')\n",
        "    embeddings_index[word] = coefs\n",
        "f.close()\n",
        "\n",
        "print('found %s word vectors' % len(embeddings_index))"
      ],
      "execution_count": 2,
      "outputs": [
        {
          "output_type": "stream",
          "name": "stdout",
          "text": [
            "loading word embeddings...\n"
          ]
        },
        {
          "output_type": "stream",
          "name": "stderr",
          "text": [
            "610979it [01:22, 7400.64it/s]"
          ]
        },
        {
          "output_type": "stream",
          "name": "stdout",
          "text": [
            "found 610978 word vectors\n"
          ]
        },
        {
          "output_type": "stream",
          "name": "stderr",
          "text": [
            "\n"
          ]
        }
      ]
    },
    {
      "cell_type": "code",
      "metadata": {
        "id": "ZOmg5D-5mOob"
      },
      "source": [
        "from sklearn.model_selection import train_test_split\n",
        "df_Spam = pd.read_excel(\"SpamTweets_S.xlsx\")\n",
        "df_Ham = pd.read_excel(\"HamTweets_S.xlsx\")\n",
        "df_Spam = df_Spam[['Cleaned Text','Label']]\n",
        "df_Ham = df_Ham[['Cleaned Text','Label']]\n",
        "df_Spam = df_Spam.drop_duplicates(subset=\"Cleaned Text\")\n",
        "df_Ham = df_Ham.drop_duplicates(subset=\"Cleaned Text\")\n",
        "df = pd.concat([df_Spam, df_Ham])\n",
        "\n",
        "train_df, test_df = train_test_split(df, test_size=0.2, random_state=42, stratify=df.Label.values)"
      ],
      "execution_count": 3,
      "outputs": []
    },
    {
      "cell_type": "code",
      "metadata": {
        "id": "NvpEQbkBnIgg",
        "colab": {
          "base_uri": "https://localhost:8080/",
          "height": 663
        },
        "outputId": "33aa8dea-4d49-41c2-fe65-523d30b71038"
      },
      "source": [
        "label_names = [\"Label\"]\n",
        "y_train = train_df[label_names].values\n",
        "\n",
        "train_df['doc_len'] = train_df['Cleaned Text'].apply(lambda words: len(words.split(\" \")))\n",
        "max_seq_len = np.round(train_df['doc_len'].mean() + train_df['doc_len'].std()).astype(int)\n",
        "\n",
        "sns.distplot(train_df['doc_len'], hist=True, kde=True, color='b', label='doc len')\n",
        "plt.axvline(x=max_seq_len, color='k', linestyle='--', label='max len')\n",
        "plt.title('comment length'); plt.legend()\n",
        "plt.show()"
      ],
      "execution_count": 4,
      "outputs": [
        {
          "output_type": "stream",
          "name": "stderr",
          "text": [
            "<ipython-input-4-102c818331cb>:7: UserWarning: \n",
            "\n",
            "`distplot` is a deprecated function and will be removed in seaborn v0.14.0.\n",
            "\n",
            "Please adapt your code to use either `displot` (a figure-level function with\n",
            "similar flexibility) or `histplot` (an axes-level function for histograms).\n",
            "\n",
            "For a guide to updating your code to use the new functions, please see\n",
            "https://gist.github.com/mwaskom/de44147ed2974457ad6372750bbe5751\n",
            "\n",
            "  sns.distplot(train_df['doc_len'], hist=True, kde=True, color='b', label='doc len')\n"
          ]
        },
        {
          "output_type": "display_data",
          "data": {
            "text/plain": [
              "<Figure size 640x480 with 1 Axes>"
            ],
            "image/png": "[encoded data removed]"
          },
          "metadata": {}
        }
      ]
    },
    {
      "cell_type": "code",
      "metadata": {
        "id": "frhgL1SMn9jR",
        "colab": {
          "base_uri": "https://localhost:8080/"
        },
        "outputId": "dbbb3584-888b-4373-e8a5-8de39cf70112"
      },
      "source": [
        "from sklearn.utils import shuffle\n",
        "from keras.utils import pad_sequences\n",
        "\n",
        "raw_docs_train = train_df['Cleaned Text'].tolist()\n",
        "raw_docs_test = test_df['Cleaned Text'].tolist()\n",
        "num_classes = len(label_names)\n",
        "\n",
        "print(\"pre-processing train data...\")\n",
        "\n",
        "processed_docs_train = []\n",
        "for doc in tqdm(raw_docs_train):\n",
        "    tokens = word_tokenize(doc)\n",
        "    filtered = [word for word in tokens if word not in stop_words]\n",
        "    processed_docs_train.append(\" \".join(filtered))\n",
        "#end for\n",
        "\n",
        "processed_docs_test = []\n",
        "for doc in tqdm(raw_docs_test):\n",
        "    tokens = word_tokenize(doc)\n",
        "    filtered = [word for word in tokens if word not in stop_words]\n",
        "    processed_docs_test.append(\" \".join(filtered))\n",
        "#end for\n",
        "\n",
        "print(\"tokenizing input data...\")\n",
        "tokenizer = Tokenizer(num_words=MAX_NB_WORDS, lower=True, char_level=False)\n",
        "tokenizer.fit_on_texts(processed_docs_train + processed_docs_test)  #leaky\n",
        "word_seq_train = tokenizer.texts_to_sequences(processed_docs_train)\n",
        "word_seq_test = tokenizer.texts_to_sequences(processed_docs_test)\n",
        "word_index = tokenizer.word_index\n",
        "print(\"dictionary size: \", len(word_index))\n",
        "\n",
        "#pad sequences\n",
        "word_seq_train = keras.utils.pad_sequences(word_seq_train, maxlen=max_seq_len)\n",
        "word_seq_test = keras.utils.pad_sequences(word_seq_test, maxlen=max_seq_len)"
      ],
      "execution_count": 5,
      "outputs": [
        {
          "output_type": "stream",
          "name": "stdout",
          "text": [
            "pre-processing train data...\n"
          ]
        },
        {
          "output_type": "stream",
          "name": "stderr",
          "text": [
            "100%|██████████| 10611/10611 [00:01<00:00, 8963.22it/s]\n",
            "100%|██████████| 2653/2653 [00:00<00:00, 8929.69it/s]\n"
          ]
        },
        {
          "output_type": "stream",
          "name": "stdout",
          "text": [
            "tokenizing input data...\n",
            "dictionary size:  30973\n"
          ]
        }
      ]
    },
    {
      "cell_type": "code",
      "metadata": {
        "id": "mFJZSSV0oDcB"
      },
      "source": [
        "#training params\n",
        "batch_size = 256\n",
        "num_epochs = 40\n",
        "\n",
        "#model parameters\n",
        "num_filters = 64\n",
        "embed_dim = 300\n",
        "weight_decay = 1e-4"
      ],
      "execution_count": 6,
      "outputs": []
    },
    {
      "cell_type": "code",
      "metadata": {
        "id": "2_2u6CeVoM5r",
        "colab": {
          "base_uri": "https://localhost:8080/"
        },
        "outputId": "a65d891b-29d9-4234-f717-b3a516f20443"
      },
      "source": [
        "#embedding matrix\n",
        "\n",
        "print('preparing embedding matrix...')\n",
        "\n",
        "words_not_found = []\n",
        "nb_words = min(MAX_NB_WORDS, len(word_index)+1)\n",
        "embedding_matrix = np.zeros((nb_words, embed_dim))\n",
        "\n",
        "for word, i in word_index.items():\n",
        "    if i >= nb_words:\n",
        "        continue\n",
        "    embedding_vector = embeddings_index.get(word)\n",
        "    if (embedding_vector is not None) and len(embedding_vector) > 0:\n",
        "        # words not found in embedding index will be all-zeros.\n",
        "        embedding_matrix[i] = embedding_vector\n",
        "    else:\n",
        "        words_not_found.append(word)\n",
        "print('number of null word embeddings: %d' % np.sum(np.sum(embedding_matrix, axis=1) == 0))"
      ],
      "execution_count": 7,
      "outputs": [
        {
          "output_type": "stream",
          "name": "stdout",
          "text": [
            "preparing embedding matrix...\n",
            "number of null word embeddings: 7231\n"
          ]
        }
      ]
    },
    {
      "cell_type": "code",
      "metadata": {
        "id": "fv2RPoJioOPq",
        "colab": {
          "base_uri": "https://localhost:8080/"
        },
        "outputId": "a9e226a8-b471-4214-f4bb-99a3ab8594de"
      },
      "source": [
        "print(\"sample words not found: \", np.random.choice(words_not_found, 10))"
      ],
      "execution_count": 8,
      "outputs": [
        {
          "output_type": "stream",
          "name": "stdout",
          "text": [
            "sample words not found:  ['طلبالعلاج' 'براندنبيرغ' 'لمنصه' 'ارهابيتين' 'يحذران' 'والاطلسي' 'المنوح'\n",
            " 'دريدلحام' 'الاسو' 'تعرضي']\n"
          ]
        }
      ]
    },
    {
      "cell_type": "code",
      "metadata": {
        "id": "3aiLaTyzoRQM",
        "colab": {
          "base_uri": "https://localhost:8080/"
        },
        "outputId": "53381231-530e-4987-9aa1-d20dd7f05a5b"
      },
      "source": [
        "len(words_not_found)"
      ],
      "execution_count": 9,
      "outputs": [
        {
          "output_type": "execute_result",
          "data": {
            "text/plain": [
              "7230"
            ]
          },
          "metadata": {},
          "execution_count": 9
        }
      ]
    },
    {
      "cell_type": "code",
      "metadata": {
        "id": "YURS6AT0oV8p",
        "colab": {
          "base_uri": "https://localhost:8080/"
        },
        "outputId": "7bd4dc9e-4ac6-471e-d16a-2d0dc98eb3a2"
      },
      "source": [
        "from keras.layers import BatchNormalization\n",
        "import tensorflow as tf\n",
        "\n",
        "model = keras.Sequential()\n",
        "\n",
        "model.add(Embedding(nb_words,embed_dim,input_length=max_seq_len, weights=[embedding_matrix],trainable=False))\n",
        "\n",
        "model.add(Dropout(0.3))\n",
        "model.add(Dense(32,activation='relu'))\n",
        "model.add(Bidirectional(LSTM(64,return_sequences= True)))\n",
        "model.add(Bidirectional(LSTM(64,return_sequences= True)))\n",
        "model.add(Bidirectional(LSTM(64,return_sequences= True)))\n",
        "model.add(Bidirectional(LSTM(64,return_sequences= True)))\n",
        "model.add(Bidirectional(LSTM(32)))\n",
        "model.add(Dense(32,activation='relu'))\n",
        "model.add(Dropout(0.3))\n",
        "\n",
        "model.add(Dense(1,activation='sigmoid'))\n",
        "model.summary()"
      ],
      "execution_count": 10,
      "outputs": [
        {
          "output_type": "stream",
          "name": "stdout",
          "text": [
            "Model: \"sequential\"\n",
            "_________________________________________________________________\n",
            " Layer (type)                Output Shape              Param #   \n",
            "=================================================================\n",
            " embedding (Embedding)       (None, 26, 300)           9292200   \n",
            "                                                                 \n",
            " dropout (Dropout)           (None, 26, 300)           0         \n",
            "                                                                 \n",
            " dense (Dense)               (None, 26, 32)            9632      \n",
            "                                                                 \n",
            " bidirectional (Bidirectiona  (None, 26, 128)          49664     \n",
            " l)                                                              \n",
            "                                                                 \n",
            " bidirectional_1 (Bidirectio  (None, 26, 128)          98816     \n",
            " nal)                                                            \n",
            "                                                                 \n",
            " bidirectional_2 (Bidirectio  (None, 26, 128)          98816     \n",
            " nal)                                                            \n",
            "                                                                 \n",
            " bidirectional_3 (Bidirectio  (None, 26, 128)          98816     \n",
            " nal)                                                            \n",
            "                                                                 \n",
            " bidirectional_4 (Bidirectio  (None, 64)               41216     \n",
            " nal)                                                            \n",
            "                                                                 \n",
            " dense_1 (Dense)             (None, 32)                2080      \n",
            "                                                                 \n",
            " dropout_1 (Dropout)         (None, 32)                0         \n",
            "                                                                 \n",
            " dense_2 (Dense)             (None, 1)                 33        \n",
            "                                                                 \n",
            "=================================================================\n",
            "Total params: 9,691,273\n",
            "Trainable params: 399,073\n",
            "Non-trainable params: 9,292,200\n",
            "_________________________________________________________________\n"
          ]
        }
      ]
    },
    {
      "cell_type": "code",
      "metadata": {
        "id": "sqs4lx3epWjY"
      },
      "source": [
        "from keras.optimizers import RMSprop\n",
        "from keras.callbacks import ModelCheckpoint\n",
        "from tensorflow.keras.callbacks import EarlyStopping\n",
        "\n",
        "def recall_m(y_true, y_pred):\n",
        "    true_positives = K.sum(K.round(K.clip(y_true * y_pred, 0, 1)))\n",
        "    possible_positives = K.sum(K.round(K.clip(y_true, 0, 1)))\n",
        "    recall = true_positives / (possible_positives + K.epsilon())\n",
        "    return recall\n",
        "\n",
        "def precision_m(y_true, y_pred):\n",
        "    true_positives = K.sum(K.round(K.clip(y_true * y_pred, 0, 1)))\n",
        "    predicted_positives = K.sum(K.round(K.clip(y_pred, 0, 1)))\n",
        "    precision = true_positives / (predicted_positives + K.epsilon())\n",
        "    return precision\n",
        "\n",
        "def f1_m(y_true, y_pred):\n",
        "    precision = precision_m(y_true, y_pred)\n",
        "    recall = recall_m(y_true, y_pred)\n",
        "    return 2*((precision*recall)/(precision+recall+K.epsilon()))\n",
        "\n",
        "model.compile(loss='binary_crossentropy', optimizer='adam', metrics=[recall_m,precision_m,f1_m])"
      ],
      "execution_count": 11,
      "outputs": []
    },
    {
      "cell_type": "code",
      "metadata": {
        "id": "7AF_ks_DpYNl",
        "colab": {
          "base_uri": "https://localhost:8080/"
        },
        "outputId": "57ca3841-8139-444a-c233-161c0873cbb5"
      },
      "source": [
        "es_callback = EarlyStopping(monitor='val_loss', patience=3)\n",
        "\n",
        "history = model.fit(word_seq_train, y_train, batch_size=64,\n",
        "          epochs=num_epochs, validation_split=0.3, shuffle=False)"
      ],
      "execution_count": 13,
      "outputs": [
        {
          "output_type": "stream",
          "name": "stdout",
          "text": [
            "Epoch 1/40\n",
            "117/117 [==============================] - 29s 62ms/step - loss: 0.2274 - recall_m: 0.6455 - precision_m: 0.6846 - f1_m: 0.6467 - val_loss: 0.0817 - val_recall_m: 0.8986 - val_precision_m: 0.9229 - val_f1_m: 0.9079\n",
            "Epoch 2/40\n",
            "117/117 [==============================] - 3s 27ms/step - loss: 0.0978 - recall_m: 0.8869 - precision_m: 0.9236 - f1_m: 0.8957 - val_loss: 0.0591 - val_recall_m: 0.9263 - val_precision_m: 0.9428 - val_f1_m: 0.9316\n",
            "Epoch 3/40\n",
            "117/117 [==============================] - 3s 28ms/step - loss: 0.0647 - recall_m: 0.9216 - precision_m: 0.9596 - f1_m: 0.9370 - val_loss: 0.0596 - val_recall_m: 0.9513 - val_precision_m: 0.9335 - val_f1_m: 0.9393\n",
            "Epoch 4/40\n",
            "117/117 [==============================] - 3s 28ms/step - loss: 0.0509 - recall_m: 0.9458 - precision_m: 0.9649 - f1_m: 0.9516 - val_loss: 0.0525 - val_recall_m: 0.9527 - val_precision_m: 0.9441 - val_f1_m: 0.9458\n",
            "Epoch 5/40\n",
            "117/117 [==============================] - 4s 33ms/step - loss: 0.0450 - recall_m: 0.9532 - precision_m: 0.9619 - f1_m: 0.9545 - val_loss: 0.0495 - val_recall_m: 0.9546 - val_precision_m: 0.9525 - val_f1_m: 0.9506\n",
            "Epoch 6/40\n",
            "117/117 [==============================] - 3s 26ms/step - loss: 0.0377 - recall_m: 0.9601 - precision_m: 0.9701 - f1_m: 0.9626 - val_loss: 0.0342 - val_recall_m: 0.9603 - val_precision_m: 0.9786 - val_f1_m: 0.9681\n",
            "Epoch 7/40\n",
            "117/117 [==============================] - 3s 28ms/step - loss: 0.0363 - recall_m: 0.9549 - precision_m: 0.9655 - f1_m: 0.9570 - val_loss: 0.0318 - val_recall_m: 0.9652 - val_precision_m: 0.9819 - val_f1_m: 0.9723\n",
            "Epoch 8/40\n",
            "117/117 [==============================] - 3s 28ms/step - loss: 0.0365 - recall_m: 0.9618 - precision_m: 0.9726 - f1_m: 0.9649 - val_loss: 0.0376 - val_recall_m: 0.9459 - val_precision_m: 0.9866 - val_f1_m: 0.9642\n",
            "Epoch 9/40\n",
            "117/117 [==============================] - 4s 32ms/step - loss: 0.0274 - recall_m: 0.9653 - precision_m: 0.9765 - f1_m: 0.9688 - val_loss: 0.0565 - val_recall_m: 0.9506 - val_precision_m: 0.9910 - val_f1_m: 0.9694\n",
            "Epoch 10/40\n",
            "117/117 [==============================] - 3s 27ms/step - loss: 0.0287 - recall_m: 0.9649 - precision_m: 0.9764 - f1_m: 0.9678 - val_loss: 0.0355 - val_recall_m: 0.9695 - val_precision_m: 0.9741 - val_f1_m: 0.9705\n",
            "Epoch 11/40\n",
            "117/117 [==============================] - 3s 26ms/step - loss: 0.0255 - recall_m: 0.9657 - precision_m: 0.9768 - f1_m: 0.9694 - val_loss: 0.0451 - val_recall_m: 0.9455 - val_precision_m: 0.9936 - val_f1_m: 0.9677\n",
            "Epoch 12/40\n",
            "117/117 [==============================] - 4s 36ms/step - loss: 0.0329 - recall_m: 0.9585 - precision_m: 0.9715 - f1_m: 0.9609 - val_loss: 0.0383 - val_recall_m: 0.9690 - val_precision_m: 0.9802 - val_f1_m: 0.9734\n",
            "Epoch 13/40\n",
            "117/117 [==============================] - 3s 27ms/step - loss: 0.0174 - recall_m: 0.9822 - precision_m: 0.9888 - f1_m: 0.9841 - val_loss: 0.0438 - val_recall_m: 0.9655 - val_precision_m: 0.9753 - val_f1_m: 0.9690\n",
            "Epoch 14/40\n",
            "117/117 [==============================] - 3s 26ms/step - loss: 0.0186 - recall_m: 0.9780 - precision_m: 0.9850 - f1_m: 0.9800 - val_loss: 0.0385 - val_recall_m: 0.9751 - val_precision_m: 0.9803 - val_f1_m: 0.9764\n",
            "Epoch 15/40\n",
            "117/117 [==============================] - 3s 27ms/step - loss: 0.0224 - recall_m: 0.9736 - precision_m: 0.9793 - f1_m: 0.9749 - val_loss: 0.0290 - val_recall_m: 0.9778 - val_precision_m: 0.9746 - val_f1_m: 0.9750\n",
            "Epoch 16/40\n",
            "117/117 [==============================] - 4s 34ms/step - loss: 0.0172 - recall_m: 0.9821 - precision_m: 0.9883 - f1_m: 0.9842 - val_loss: 0.0306 - val_recall_m: 0.9793 - val_precision_m: 0.9732 - val_f1_m: 0.9749\n",
            "Epoch 17/40\n",
            "117/117 [==============================] - 3s 28ms/step - loss: 0.0302 - recall_m: 0.9556 - precision_m: 0.9682 - f1_m: 0.9597 - val_loss: 0.0335 - val_recall_m: 0.9800 - val_precision_m: 0.9679 - val_f1_m: 0.9726\n",
            "Epoch 18/40\n",
            "117/117 [==============================] - 3s 26ms/step - loss: 0.0209 - recall_m: 0.9766 - precision_m: 0.9800 - f1_m: 0.9768 - val_loss: 0.0327 - val_recall_m: 0.9788 - val_precision_m: 0.9794 - val_f1_m: 0.9782\n",
            "Epoch 19/40\n",
            "117/117 [==============================] - 4s 35ms/step - loss: 0.0112 - recall_m: 0.9855 - precision_m: 0.9914 - f1_m: 0.9878 - val_loss: 0.0370 - val_recall_m: 0.9785 - val_precision_m: 0.9595 - val_f1_m: 0.9679\n",
            "Epoch 20/40\n",
            "117/117 [==============================] - 3s 27ms/step - loss: 0.0125 - recall_m: 0.9910 - precision_m: 0.9929 - f1_m: 0.9915 - val_loss: 0.0341 - val_recall_m: 0.9814 - val_precision_m: 0.9587 - val_f1_m: 0.9685\n",
            "Epoch 21/40\n",
            "117/117 [==============================] - 3s 26ms/step - loss: 0.0055 - recall_m: 0.9928 - precision_m: 0.9922 - f1_m: 0.9920 - val_loss: 0.0432 - val_recall_m: 0.9742 - val_precision_m: 0.9690 - val_f1_m: 0.9707\n",
            "Epoch 22/40\n",
            "117/117 [==============================] - 3s 27ms/step - loss: 0.0103 - recall_m: 0.9892 - precision_m: 0.9900 - f1_m: 0.9890 - val_loss: 0.0330 - val_recall_m: 0.9739 - val_precision_m: 0.9769 - val_f1_m: 0.9742\n",
            "Epoch 23/40\n",
            "117/117 [==============================] - 4s 35ms/step - loss: 0.0072 - recall_m: 0.9932 - precision_m: 0.9945 - f1_m: 0.9933 - val_loss: 0.0476 - val_recall_m: 0.9636 - val_precision_m: 0.9933 - val_f1_m: 0.9776\n",
            "Epoch 24/40\n",
            "117/117 [==============================] - 3s 26ms/step - loss: 0.0087 - recall_m: 0.9882 - precision_m: 0.9953 - f1_m: 0.9912 - val_loss: 0.0456 - val_recall_m: 0.9719 - val_precision_m: 0.9781 - val_f1_m: 0.9741\n",
            "Epoch 25/40\n",
            "117/117 [==============================] - 3s 25ms/step - loss: 0.0100 - recall_m: 0.9901 - precision_m: 0.9893 - f1_m: 0.9890 - val_loss: 0.0401 - val_recall_m: 0.9722 - val_precision_m: 0.9832 - val_f1_m: 0.9769\n",
            "Epoch 26/40\n",
            "117/117 [==============================] - 3s 27ms/step - loss: 0.0066 - recall_m: 0.9955 - precision_m: 0.9926 - f1_m: 0.9937 - val_loss: 0.0502 - val_recall_m: 0.9669 - val_precision_m: 0.9910 - val_f1_m: 0.9780\n",
            "Epoch 27/40\n",
            "117/117 [==============================] - 4s 34ms/step - loss: 0.0073 - recall_m: 0.9932 - precision_m: 0.9959 - f1_m: 0.9942 - val_loss: 0.0448 - val_recall_m: 0.9801 - val_precision_m: 0.9579 - val_f1_m: 0.9672\n",
            "Epoch 28/40\n",
            "117/117 [==============================] - 3s 27ms/step - loss: 0.0078 - recall_m: 0.9901 - precision_m: 0.9903 - f1_m: 0.9894 - val_loss: 0.0421 - val_recall_m: 0.9704 - val_precision_m: 0.9849 - val_f1_m: 0.9769\n",
            "Epoch 29/40\n",
            "117/117 [==============================] - 3s 26ms/step - loss: 0.0068 - recall_m: 0.9897 - precision_m: 0.9933 - f1_m: 0.9909 - val_loss: 0.0588 - val_recall_m: 0.9817 - val_precision_m: 0.9290 - val_f1_m: 0.9531\n",
            "Epoch 30/40\n",
            "117/117 [==============================] - 4s 31ms/step - loss: 0.0058 - recall_m: 0.9973 - precision_m: 0.9942 - f1_m: 0.9955 - val_loss: 0.0361 - val_recall_m: 0.9773 - val_precision_m: 0.9760 - val_f1_m: 0.9758\n",
            "Epoch 31/40\n",
            "117/117 [==============================] - 3s 29ms/step - loss: 0.0134 - recall_m: 0.9889 - precision_m: 0.9828 - f1_m: 0.9847 - val_loss: 0.0604 - val_recall_m: 0.9439 - val_precision_m: 0.9958 - val_f1_m: 0.9677\n",
            "Epoch 32/40\n",
            "117/117 [==============================] - 3s 27ms/step - loss: 0.0120 - recall_m: 0.9862 - precision_m: 0.9882 - f1_m: 0.9865 - val_loss: 0.0449 - val_recall_m: 0.9800 - val_precision_m: 0.9478 - val_f1_m: 0.9624\n",
            "Epoch 33/40\n",
            "117/117 [==============================] - 3s 28ms/step - loss: 0.0143 - recall_m: 0.9872 - precision_m: 0.9876 - f1_m: 0.9861 - val_loss: 0.0466 - val_recall_m: 0.9651 - val_precision_m: 0.9877 - val_f1_m: 0.9756\n",
            "Epoch 34/40\n",
            "117/117 [==============================] - 4s 34ms/step - loss: 0.0065 - recall_m: 0.9956 - precision_m: 0.9942 - f1_m: 0.9946 - val_loss: 0.0422 - val_recall_m: 0.9773 - val_precision_m: 0.9809 - val_f1_m: 0.9781\n",
            "Epoch 35/40\n",
            "117/117 [==============================] - 3s 27ms/step - loss: 0.0065 - recall_m: 0.9953 - precision_m: 0.9944 - f1_m: 0.9946 - val_loss: 0.0358 - val_recall_m: 0.9751 - val_precision_m: 0.9838 - val_f1_m: 0.9783\n",
            "Epoch 36/40\n",
            "117/117 [==============================] - 3s 28ms/step - loss: 0.0053 - recall_m: 0.9936 - precision_m: 0.9939 - f1_m: 0.9933 - val_loss: 0.0475 - val_recall_m: 0.9825 - val_precision_m: 0.9587 - val_f1_m: 0.9692\n",
            "Epoch 37/40\n",
            "117/117 [==============================] - 4s 34ms/step - loss: 0.0073 - recall_m: 0.9922 - precision_m: 0.9931 - f1_m: 0.9922 - val_loss: 0.0509 - val_recall_m: 0.9813 - val_precision_m: 0.9396 - val_f1_m: 0.9582\n",
            "Epoch 38/40\n",
            "117/117 [==============================] - 3s 26ms/step - loss: 0.0081 - recall_m: 0.9905 - precision_m: 0.9916 - f1_m: 0.9902 - val_loss: 0.0540 - val_recall_m: 0.9772 - val_precision_m: 0.9553 - val_f1_m: 0.9644\n",
            "Epoch 39/40\n",
            "117/117 [==============================] - 3s 28ms/step - loss: 0.0074 - recall_m: 0.9938 - precision_m: 0.9911 - f1_m: 0.9921 - val_loss: 0.0493 - val_recall_m: 0.9807 - val_precision_m: 0.9654 - val_f1_m: 0.9716\n",
            "Epoch 40/40\n",
            "117/117 [==============================] - 3s 28ms/step - loss: 0.0041 - recall_m: 0.9961 - precision_m: 0.9953 - f1_m: 0.9954 - val_loss: 0.0379 - val_recall_m: 0.9745 - val_precision_m: 0.9884 - val_f1_m: 0.9807\n"
          ]
        }
      ]
    },
    {
      "cell_type": "code",
      "metadata": {
        "id": "D4pbmlqBpZfs",
        "colab": {
          "base_uri": "https://localhost:8080/",
          "height": 472
        },
        "outputId": "a741065d-042b-45d0-d36c-203fc7c52fd4"
      },
      "source": [
        "#generate plots\n",
        "plt.figure()\n",
        "plt.plot(history.history['loss'], lw=2.0, color='b', label='train')\n",
        "plt.plot(history.history['val_loss'], lw=2.0, color='r', label='val')\n",
        "plt.title('LSTM sentiment')\n",
        "plt.xlabel('Epochs')\n",
        "plt.ylabel('Cross-Entropy Loss')\n",
        "plt.legend(loc='upper right')\n",
        "plt.show()"
      ],
      "execution_count": 20,
      "outputs": [
        {
          "output_type": "display_data",
          "data": {
            "text/plain": [
              "<Figure size 640x480 with 1 Axes>"
            ],
            "image/png": "[encoded data removed]"
          },
          "metadata": {}
        }
      ]
    },
    {
      "cell_type": "code",
      "source": [
        "y_test = test_df[label_names].values\n",
        "model.evaluate(word_seq_test, y_test)"
      ],
      "metadata": {
        "colab": {
          "base_uri": "https://localhost:8080/"
        },
        "id": "XMVQRK2pIY-Q",
        "outputId": "2d6cd7b2-69a6-488d-c221-661d8bdac18f"
      },
      "execution_count": 14,
      "outputs": [
        {
          "output_type": "stream",
          "name": "stdout",
          "text": [
            "83/83 [==============================] - 1s 11ms/step - loss: 0.0334 - recall_m: 0.9521 - precision_m: 0.9946 - f1_m: 0.9703\n"
          ]
        },
        {
          "output_type": "execute_result",
          "data": {
            "text/plain": [
              "[0.03342128172516823, 0.9520748257637024, 0.9946452975273132, 0.97030109167099]"
            ]
          },
          "metadata": {},
          "execution_count": 14
        }
      ]
    }
  ]
}